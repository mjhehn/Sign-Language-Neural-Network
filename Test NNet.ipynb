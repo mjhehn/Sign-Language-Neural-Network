{
 "cells": [
  {
   "cell_type": "code",
   "execution_count": 2,
   "metadata": {
    "collapsed": true
   },
   "outputs": [],
   "source": [
    "import os, sys, inspect\n",
    "\n",
    "cmd_folder = os.path.realpath(os.path.abspath(os.path.split(inspect.getfile( inspect.currentframe() ))[0]))\n",
    "if cmd_folder not in sys.path:\n",
    "    sys.path.insert(0, cmd_folder)\n",
    "\n",
    "\n",
    "cmd_subfolder = os.path.realpath(os.path.abspath(os.path.join(os.path.split(inspect.getfile( inspect.currentframe() ))[0],\"lib/Leap\")))\n",
    "if cmd_subfolder not in sys.path:\n",
    "    sys.path.insert(0, cmd_subfolder)\n",
    "    cmd_subfolder = os.path.realpath(os.path.abspath(os.path.join(os.path.split(inspect.getfile( inspect.currentframe() ))[0],\"lib/Anderson\")))\n",
    "if cmd_subfolder not in sys.path:\n",
    "    sys.path.insert(0, cmd_subfolder)"
   ]
  },
  {
   "cell_type": "code",
   "execution_count": 3,
   "metadata": {
    "collapsed": true
   },
   "outputs": [],
   "source": [
    "import pandas as pd\n",
    "import numpy as np\n",
    "import neuralnetworks as nn\n",
    "import mlutils as ml"
   ]
  },
  {
   "cell_type": "code",
   "execution_count": 4,
   "metadata": {
    "collapsed": true
   },
   "outputs": [],
   "source": [
    "def trainNNs(X, T, trainFraction, hiddenLayerStructures, numberRepetitions, numberIterations, classify=False):\n",
    "    import neuralnetworks as nn\n",
    "    import mlutils as ml\n",
    "    import numpy as np\n",
    "    import time\n",
    "    result = []\n",
    "    for structure in hiddenLayerStructures:\n",
    "        trainedResult = []\n",
    "        testResult = []\n",
    "        t0 = time.time()\n",
    "        for n in range(0, numberRepetitions):\n",
    "            Xtrain,Ttrain,Xtest,Ttest = ml.partition(X,T,(trainFraction, 1-trainFraction),classify)\n",
    "            if classify:\n",
    "                nnet = nn.NeuralNetworkClassifier(X.shape[1], structure, len(np.unique(T)))\n",
    "                nnet.train(Xtrain, Ttrain, numberIterations, errorPrecision=1.e-8)\n",
    "                trainedResult.append(np.sum(nnet.use(Xtrain)==Ttrain)/len(Ttrain))\n",
    "                testResult.append(np.sum(nnet.use(Xtest)==Ttest)/len(Ttest))\n",
    "            else:\n",
    "                nnet = nn.NeuralNetwork(X.shape[1], structure, T.shape[1])\n",
    "                nnet.train(Xtrain, Ttrain, numberIterations)\n",
    "                trainedResult.append(np.sqrt(np.mean(((nnet.use(Xtrain)-Ttrain)**2))))\n",
    "                testResult.append(np.sqrt(np.mean(((nnet.use(Xtest)-Ttest)**2))))\n",
    "\n",
    "            \n",
    "        result.append([structure, trainedResult, testResult, time.time() - t0])\n",
    "    return result\n",
    "\n",
    "def summarize(results):\n",
    "    import numpy as np\n",
    "    summaryResults = []\n",
    "    for result in results:\n",
    "        summaryResults.append([result[0], np.mean(result[1]), np.mean(result[2]), result[3]])\n",
    "    return summaryResults\n",
    "\n",
    "\n",
    "def bestNetwork(summary):\n",
    "    best = min(summary, key=lambda l: l[2])\n",
    "    return best\n"
   ]
  },
  {
   "cell_type": "markdown",
   "metadata": {},
   "source": [
    "Dependencies/import config"
   ]
  },
  {
   "cell_type": "markdown",
   "metadata": {},
   "source": [
    "## Get Data"
   ]
  },
  {
   "cell_type": "code",
   "execution_count": 5,
   "metadata": {
    "collapsed": true
   },
   "outputs": [],
   "source": [
    "data = pd.read_csv(\"templates/data1Normed.csv\")\n",
    "names = list(data)\n",
    "data[\"signcode\"] = data[\"sign\"].astype('category').cat.codes\n",
    "data = data.values"
   ]
  },
  {
   "cell_type": "code",
   "execution_count": 6,
   "metadata": {
    "collapsed": true
   },
   "outputs": [],
   "source": [
    "Xhands = data[:, 0:63]\n",
    "Xhands = Xhands.astype(np.float64)"
   ]
  },
  {
   "cell_type": "code",
   "execution_count": 7,
   "metadata": {
    "collapsed": true
   },
   "outputs": [],
   "source": [
    "Tsign = data[:, 64:65]\n",
    "Tsign = Tsign.astype(np.int32)"
   ]
  },
  {
   "cell_type": "code",
   "execution_count": 8,
   "metadata": {},
   "outputs": [
    {
     "data": {
      "text/plain": [
       "(5071, 63)"
      ]
     },
     "execution_count": 8,
     "metadata": {},
     "output_type": "execute_result"
    }
   ],
   "source": [
    "Xhands.shape"
   ]
  },
  {
   "cell_type": "code",
   "execution_count": 9,
   "metadata": {},
   "outputs": [
    {
     "data": {
      "text/plain": [
       "(5071, 1)"
      ]
     },
     "execution_count": 9,
     "metadata": {},
     "output_type": "execute_result"
    }
   ],
   "source": [
    "Tsign.shape"
   ]
  },
  {
   "cell_type": "code",
   "execution_count": 10,
   "metadata": {
    "collapsed": true
   },
   "outputs": [],
   "source": [
    "handNames = names[0:63]\n",
    "signName = names[63]"
   ]
  },
  {
   "cell_type": "code",
   "execution_count": 11,
   "metadata": {},
   "outputs": [
    {
     "name": "stdout",
     "output_type": "stream",
     "text": [
      "206 samples in class 0 sign: a \n",
      "228 samples in class 1 sign: b \n",
      "158 samples in class 2 sign: c \n",
      "178 samples in class 3 sign: d \n",
      "155 samples in class 4 sign: e \n",
      "190 samples in class 5 sign: f \n",
      "175 samples in class 6 sign: g \n",
      "181 samples in class 7 sign: h \n",
      "199 samples in class 8 sign: i \n",
      "227 samples in class 9 sign: j \n",
      "166 samples in class 10 sign: k \n",
      "219 samples in class 11 sign: l \n",
      "146 samples in class 12 sign: m \n",
      "197 samples in class 13 sign: n \n",
      "222 samples in class 14 sign: o \n",
      "189 samples in class 15 sign: p \n",
      "218 samples in class 16 sign: q \n",
      "209 samples in class 17 sign: r \n",
      "170 samples in class 18 sign: s \n",
      "186 samples in class 19 sign: t \n",
      "175 samples in class 20 sign: u \n",
      "190 samples in class 21 sign: v \n",
      "173 samples in class 22 sign: w \n",
      "210 samples in class 23 sign: x \n",
      "273 samples in class 24 sign: y \n",
      "231 samples in class 25 sign: z \n"
     ]
    }
   ],
   "source": [
    "for i in range(0, len(np.unique(Tsign).tolist())):\n",
    "    print('{} samples in class {} sign: {} '.format(np.sum(Tsign==i), i, np.unique(data[:, 63]).tolist()[i]))"
   ]
  },
  {
   "cell_type": "markdown",
   "metadata": {},
   "source": [
    "Get list of how many samples in each class/category/how many of each sign."
   ]
  },
  {
   "cell_type": "markdown",
   "metadata": {},
   "source": [
    "## Test NNet"
   ]
  },
  {
   "cell_type": "code",
   "execution_count": 13,
   "metadata": {},
   "outputs": [],
   "source": [
    "results = trainNNs(Xhands, Tsign, 0.90, [5, 10, 63, [5,5,5], [5,2,2,5]], 10, 100, classify=True)"
   ]
  },
  {
   "cell_type": "code",
   "execution_count": 14,
   "metadata": {},
   "outputs": [
    {
     "data": {
      "text/plain": [
       "[[5,\n",
       "  [0.60727591496822264,\n",
       "   0.62897216743370588,\n",
       "   0.58864781941705013,\n",
       "   0.61297392066622836,\n",
       "   0.64058733289502523,\n",
       "   0.5744028051720359,\n",
       "   0.5818540433925049,\n",
       "   0.6329169406092483,\n",
       "   0.56914310760464604,\n",
       "   0.60924830155599385],\n",
       "  [0.58464566929133854,\n",
       "   0.60433070866141736,\n",
       "   0.55708661417322836,\n",
       "   0.62204724409448819,\n",
       "   0.63385826771653542,\n",
       "   0.56889763779527558,\n",
       "   0.55708661417322836,\n",
       "   0.59645669291338588,\n",
       "   0.55905511811023623,\n",
       "   0.58267716535433067],\n",
       "  30.652753829956055],\n",
       " [10,\n",
       "  [0.74337058952443569,\n",
       "   0.76090291474906857,\n",
       "   0.76353276353276356,\n",
       "   0.76287530133683978,\n",
       "   0.76221783914091601,\n",
       "   0.75126013587552054,\n",
       "   0.72824895901818976,\n",
       "   0.75980714442252906,\n",
       "   0.75827306596537369,\n",
       "   0.76243699320622393],\n",
       "  [0.72834645669291342,\n",
       "   0.74212598425196852,\n",
       "   0.74409448818897639,\n",
       "   0.73622047244094491,\n",
       "   0.73622047244094491,\n",
       "   0.72047244094488194,\n",
       "   0.72244094488188981,\n",
       "   0.73818897637795278,\n",
       "   0.70866141732283461,\n",
       "   0.73622047244094491],\n",
       "  35.3932363986969],\n",
       " [63,\n",
       "  [0.93600701293008981,\n",
       "   0.93885601577909272,\n",
       "   0.92592592592592593,\n",
       "   0.92614507999123385,\n",
       "   0.92746000438308129,\n",
       "   0.93184308568923957,\n",
       "   0.91474906859522243,\n",
       "   0.93381547227701078,\n",
       "   0.93162393162393164,\n",
       "   0.91343414420337499],\n",
       "  [0.8582677165354331,\n",
       "   0.83858267716535428,\n",
       "   0.8582677165354331,\n",
       "   0.85039370078740162,\n",
       "   0.83661417322834641,\n",
       "   0.85039370078740162,\n",
       "   0.85433070866141736,\n",
       "   0.85039370078740162,\n",
       "   0.83267716535433067,\n",
       "   0.84645669291338588],\n",
       "  80.89939761161804],\n",
       " [[5, 5, 5],\n",
       "  [0.41420118343195267,\n",
       "   0.42954196800350647,\n",
       "   0.44970414201183434,\n",
       "   0.36182336182336183,\n",
       "   0.38943677405215865,\n",
       "   0.40214770984001752,\n",
       "   0.45036160420775806,\n",
       "   0.50734166118781499,\n",
       "   0.48696033311417924,\n",
       "   0.47381108919570458],\n",
       "  [0.37795275590551181,\n",
       "   0.44291338582677164,\n",
       "   0.4389763779527559,\n",
       "   0.32480314960629919,\n",
       "   0.3956692913385827,\n",
       "   0.39173228346456695,\n",
       "   0.45078740157480313,\n",
       "   0.49212598425196852,\n",
       "   0.47834645669291337,\n",
       "   0.46850393700787402],\n",
       "  33.17554569244385],\n",
       " [[5, 2, 2, 5],\n",
       "  [0.34056541748849439,\n",
       "   0.34976988823142668,\n",
       "   0.28884505807582733,\n",
       "   0.20490905106289722,\n",
       "   0.21564760026298488,\n",
       "   0.21499013806706113,\n",
       "   0.17357001972386588,\n",
       "   0.31207538899846593,\n",
       "   0.20293666447512601,\n",
       "   0.28687267148805612],\n",
       "  [0.32874015748031499,\n",
       "   0.33267716535433073,\n",
       "   0.26771653543307089,\n",
       "   0.20078740157480315,\n",
       "   0.19488188976377951,\n",
       "   0.20669291338582677,\n",
       "   0.17125984251968504,\n",
       "   0.30118110236220474,\n",
       "   0.24409448818897639,\n",
       "   0.2874015748031496],\n",
       "  32.41000270843506]]"
      ]
     },
     "execution_count": 14,
     "metadata": {},
     "output_type": "execute_result"
    }
   ],
   "source": [
    "results"
   ]
  },
  {
   "cell_type": "code",
   "execution_count": 15,
   "metadata": {},
   "outputs": [
    {
     "data": {
      "text/plain": [
       "[[5, 0.60460223537146596, 0.58661417322834652, 30.652753829956055],\n",
       " [10, 0.75529257067718603, 0.73129921259842523, 35.3932363986969],\n",
       " [63, 0.92798597413982031, 0.84763779527559058, 80.89939761161804],\n",
       " [[5, 5, 5], 0.43653298268682883, 0.42618110236220474, 33.17554569244385],\n",
       " [[5, 2, 2, 5], 0.25901818978742053, 0.25354330708661416, 32.41000270843506]]"
      ]
     },
     "execution_count": 15,
     "metadata": {},
     "output_type": "execute_result"
    }
   ],
   "source": [
    "summarize(results)"
   ]
  },
  {
   "cell_type": "code",
   "execution_count": 16,
   "metadata": {},
   "outputs": [
    {
     "data": {
      "text/plain": [
       "[[5, 2, 2, 5], 0.25901818978742053, 0.25354330708661416, 32.41000270843506]"
      ]
     },
     "execution_count": 16,
     "metadata": {},
     "output_type": "execute_result"
    }
   ],
   "source": [
    "bestNet = bestNetwork(summarize(results))\n",
    "bestNet"
   ]
  },
  {
   "cell_type": "markdown",
   "metadata": {},
   "source": [
    "## Plot the test"
   ]
  },
  {
   "cell_type": "code",
   "execution_count": 77,
   "metadata": {
    "collapsed": true
   },
   "outputs": [],
   "source": [
    "bestNet = [252]"
   ]
  },
  {
   "cell_type": "code",
   "execution_count": 78,
   "metadata": {},
   "outputs": [
    {
     "data": {
      "text/plain": [
       "NeuralNetwork(63, [252], 26)\n",
       "   Network was trained for 200 iterations. Final error is 0.0003592975076544833."
      ]
     },
     "execution_count": 78,
     "metadata": {},
     "output_type": "execute_result"
    }
   ],
   "source": [
    "import matplotlib.pyplot as plt\n",
    "%matplotlib inline\n",
    "\n",
    "#run best on \n",
    "Xtrain,Ttrain,Xtest,Ttest = ml.partition(Xhands,Tsign,(0.8, 0.2),True)\n",
    "nnet = nn.NeuralNetworkClassifier(Xtrain.shape[1], bestNet, len(np.unique(Ttrain)))\n",
    "nnet.train(Xtrain, Ttrain, 200)"
   ]
  },
  {
   "cell_type": "code",
   "execution_count": 79,
   "metadata": {
    "collapsed": true
   },
   "outputs": [],
   "source": [
    "result = nnet.use(Xtest)"
   ]
  },
  {
   "cell_type": "code",
   "execution_count": 80,
   "metadata": {},
   "outputs": [
    {
     "data": {
      "text/plain": [
       "<matplotlib.legend.Legend at 0x1ca62634fd0>"
      ]
     },
     "execution_count": 80,
     "metadata": {},
     "output_type": "execute_result"
    },
    {
     "data": {
      "image/png": "[encoded data removed]",
      "text/plain": [
       "<matplotlib.figure.Figure at 0x1ca625ed128>"
      ]
     },
     "metadata": {},
     "output_type": "display_data"
    }
   ],
   "source": [
    "#plt.subplot(3, 1, 1)\n",
    "plt.plot(Ttest, 'o-', alpha=0.5)\n",
    "plt.plot(result, \"o-\", alpha=0.5)\n",
    "\n",
    "labels = np.unique(data[:, 63])\n",
    "plt.xlabel(\"Sample #\")\n",
    "plt.ylabel(\"Sign\")\n",
    "\n",
    "plt.yticks(np.unique(Ttest).tolist(), np.unique(labels).tolist())\n",
    "\n",
    "plt.legend(('Testing','Model'), loc='upper left')"
   ]
  },
  {
   "cell_type": "markdown",
   "metadata": {},
   "source": [
    "vs"
   ]
  }
 ],
 "metadata": {
  "kernelspec": {
   "display_name": "Python 3",
   "language": "python",
   "name": "python3"
  },
  "language_info": {
   "codemirror_mode": {
    "name": "ipython",
    "version": 3
   },
   "file_extension": ".py",
   "mimetype": "text/x-python",
   "name": "python",
   "nbconvert_exporter": "python",
   "pygments_lexer": "ipython3",
   "version": "3.6.1"
  }
 },
 "nbformat": 4,
 "nbformat_minor": 2
}
