{
 "cells": [
  {
   "cell_type": "markdown",
   "metadata": {},
   "source": [
    "# Recognition of American Sign Language via a Leap Motion"
   ]
  },
  {
   "cell_type": "markdown",
   "metadata": {},
   "source": [
    "*by Matt Hehn, Ben Campbell, & Chris Cochran, December, 2017*"
   ]
  },
  {
   "cell_type": "markdown",
   "metadata": {},
   "source": [
    "## Introduction"
   ]
  },
  {
   "cell_type": "markdown",
   "metadata": {},
   "source": [
    "In October 2017, we participated in Colorado State University's Virtual Reality Hackathon. During the 48-hour hackathon, our 4-person team developed a prototype Virtual Reality (VR) experience meant to allow people to learn or practice American Sign Language. Traditionally, learning ASL requires someone already skilled to act as a teacher/tutor to the new learner, which limits the ability of many to learn the language. Additionally, children having to learn ASL as their first language have yet greater difficulties learning the language without another way to convey meaning.\n",
    "\n",
    "Our project in the hackathon was designed to interpret sign language using a Leap Motion sensor mounted on the front of a VR headset, and provide active feedback to the user as to whether they had accurately mimicked a sign (and what it was, if they succeeed. A visual reference was shown in the VR environment). To aid in first-language learning, the system was designed to be able to enter a 'quiz' demo mode, which would ask the user to sign out a full word, at which point the simulation would spawn in a 3D model of the object the word refers to. We ultimately [won the hackathon](https://source.colostate.edu/sign-language-project-wins-second-annual-ram-hackathon/).\n",
    "\n",
    "The key limitation of this demo was its accuracy. In the original Unity project, the C# code used to take data from the sensor was making a very naive comparison with a threshhold of allowed difference between a single \"good\" reference for a sign and the current position of the hand and fingers. Using this method, we were only able to get the prototype to accurately and regularly recognize roughly six letters. \n",
    "\n",
    "It was our aim in this project (and even during the hackathon, though time limitations made it impossible) to train a neural network to more accurately recognize and categorize correct signs to then be re-incorporated back into the VR project at some later date."
   ]
  },
  {
   "cell_type": "markdown",
   "metadata": {},
   "source": [
    "## Prerequisites/Materials"
   ]
  },
  {
   "cell_type": "markdown",
   "metadata": {},
   "source": [
    "### Notebook"
   ]
  },
  {
   "cell_type": "markdown",
   "metadata": {},
   "source": [
    "- Python 3.x\n",
    "- Numpy\n",
    "- Pandas\n",
    "- MatplotLib\n",
    "- Chuck Anderson's Neural Net package"
   ]
  },
  {
   "cell_type": "markdown",
   "metadata": {},
   "source": [
    "### Full Project"
   ]
  },
  {
   "cell_type": "markdown",
   "metadata": {},
   "source": [
    "- Python 3.x 64-bit\n",
    "    - Must be 64-bit, as the Python LeapMotion API had to be recompiled for use in Python 3 and was recompiled for 64-bit\n",
    "- Numpy\n",
    "- Pandas\n",
    "- Matplotlib\n",
    "- Chuck Anderson's Neural Net Package\n",
    "- [Leap Motion Orion 3.2.1 SDK](https://developer.leapmotion.com/releases), Windows version used.\n",
    "- Leap Motion USB Sensor"
   ]
  },
  {
   "cell_type": "markdown",
   "metadata": {},
   "source": [
    "## Methods"
   ]
  },
  {
   "cell_type": "markdown",
   "metadata": {},
   "source": [
    "In order to even begin with structuring and formatting data for implementation with the Neural Network, our work to pull hand data from the sensor had to be ported to the Python version of the sensor SDK's API. Once this was completed, we needed to implement methods to generate and then store data pertaining to hands to a CSV file, with the correct letter/translation of the sign in a row. \n",
    "\n",
    "We ultimately stored a unit vector for each bone in the hand that is tracked by the Leap Motion sensor. By default, the vectors are defined in world coordinates for the sensor rather than relative units. To combat this, we re-defined the hand bones in reference to the palm's vector (so that relative hand position in the sensor's FOV would not confound the bone vectors).\n",
    "\n",
    "At this point, since no dataset we could find online appeared to be in a state we would be able to accurately compare against, we began attempts to generate our own dataset using the script contained in ```HandData.py```. Our team generated much of the data in our dataset personally or with friends/family. \n",
    "\n",
    "To generate data, the Leap Motion sensor was plugged into a Windows computer via a short usb cable. Due to relative unfamiliarity of some of the participants with the signs, an image was pulled up on the computer (Sourced from [Lifeprint](http://lifeprint.com/asl101/fingerspelling/images/abc1280x960.png) under their terms for image use) and used as a reference to aid in accurate signing. Participants in data collection were instructed to sign with their hands slightly behind the sensor on the table, to increase the number of signs where the sensor would be able to at least view fingers unobscured by the hand itself.\n",
    "\n",
    "The number of samples for each letter of the alphabet in the data1Normed.csv dataset is listed below."
   ]
  },
  {
   "cell_type": "code",
   "execution_count": 1,
   "metadata": {
    "scrolled": false
   },
   "outputs": [
    {
     "name": "stdout",
     "output_type": "stream",
     "text": [
      "206 samples in class: 0, sign: a \n",
      "228 samples in class: 1, sign: b \n",
      "158 samples in class: 2, sign: c \n",
      "178 samples in class: 3, sign: d \n",
      "155 samples in class: 4, sign: e \n",
      "190 samples in class: 5, sign: f \n",
      "175 samples in class: 6, sign: g \n",
      "181 samples in class: 7, sign: h \n",
      "199 samples in class: 8, sign: i \n",
      "227 samples in class: 9, sign: j \n",
      "166 samples in class: 10, sign: k \n",
      "219 samples in class: 11, sign: l \n",
      "146 samples in class: 12, sign: m \n",
      "197 samples in class: 13, sign: n \n",
      "222 samples in class: 14, sign: o \n",
      "189 samples in class: 15, sign: p \n",
      "218 samples in class: 16, sign: q \n",
      "209 samples in class: 17, sign: r \n",
      "170 samples in class: 18, sign: s \n",
      "186 samples in class: 19, sign: t \n",
      "175 samples in class: 20, sign: u \n",
      "190 samples in class: 21, sign: v \n",
      "173 samples in class: 22, sign: w \n",
      "210 samples in class: 23, sign: x \n",
      "273 samples in class: 24, sign: y \n",
      "231 samples in class: 25, sign: z \n"
     ]
    }
   ],
   "source": [
    "%run \"HandNNetSamples.py\""
   ]
  },
  {
   "cell_type": "markdown",
   "metadata": {},
   "source": [
    "Once we had enough data to begin working with, we set up some methods which would leverage Chuck's Neural Net package and utilities in addition to some of Matt's code from CS440 Assignment 6, which analyzed neural networks given a CSV dataset for use in developing a categorization neural net. This code can be found in ```HandNNet.py``` and the ```Test NNet.ipynb```\n",
    "\n",
    "The graph from the trained network of structure [252] can be seen below (80/20 split)."
   ]
  },
  {
   "cell_type": "code",
   "execution_count": 5,
   "metadata": {},
   "outputs": [
    {
     "data": {
      "text/plain": [
       "<matplotlib.figure.Figure at 0x203527c5978>"
      ]
     },
     "metadata": {},
     "output_type": "display_data"
    }
   ],
   "source": [
    "%run \"HandNNetGraph.py\""
   ]
  },
  {
   "cell_type": "code",
   "execution_count": 6,
   "metadata": {},
   "outputs": [
    {
     "data": {
      "text/plain": [
       "<matplotlib.legend.Legend at 0x203527b6f28>"
      ]
     },
     "execution_count": 6,
     "metadata": {},
     "output_type": "execute_result"
    },
    {
     "data": {
      "image/png": "[encoded data removed]",
      "text/plain": [
       "<matplotlib.figure.Figure at 0x20352669cf8>"
      ]
     },
     "metadata": {},
     "output_type": "display_data"
    }
   ],
   "source": [
    "import matplotlib.pyplot as plt\n",
    "%matplotlib inline\n",
    "plt.plot(Ttest, 'o-', alpha=0.5)\n",
    "plt.plot(result, \"o-\", alpha=0.5)\n",
    "\n",
    "labels = np.unique(data[:, 63])\n",
    "plt.xlabel(\"Sample #\")\n",
    "plt.ylabel(\"Sign\")\n",
    "\n",
    "plt.yticks(np.unique(Ttest).tolist(), np.unique(labels).tolist())\n",
    "\n",
    "plt.legend(('Testing','Model'), loc='upper left')"
   ]
  },
  {
   "cell_type": "markdown",
   "metadata": {},
   "source": [
    "Final error is 0.0003592975076544833 (in previous run)"
   ]
  },
  {
   "cell_type": "markdown",
   "metadata": {},
   "source": [
    "### Team Work split:"
   ]
  },
  {
   "cell_type": "markdown",
   "metadata": {},
   "source": [
    "- Ben Campbell\n",
    "    - Data Generation\n",
    "    - Partial report writeup\n",
    "    - Neural Network configuration testing\n",
    "- Chris Cochran\n",
    "    - LOT of Data Generation (my hand hurts)\n",
    "    - Neural Network configuration testing\n",
    "    - Partial report writeup\n",
    "- Matt Hehn\n",
    "    - Built the Python 3 wrapper for Leap Motion SDK API\n",
    "    - Ported the handling of the sensor controller\n",
    "    - Ported and modified hand data normalization and formatting\n",
    "    - Set up the data-to-csv function\n",
    "    - Set up the Neural Network interface and training functions \n",
    "    - Set up testing python notebook for training and comparing networks\n",
    "    - A little bit of data generation\n",
    "    - Part of report writeup"
   ]
  },
  {
   "cell_type": "markdown",
   "metadata": {},
   "source": [
    "## Results"
   ]
  },
  {
   "cell_type": "markdown",
   "metadata": {},
   "source": [
    "As can be seen in the plot in the methods section, despite using a network that is basically just linear regression, we managed to end with a final error of about three thousandths. After trying multiple network models that were far more complex, it turns out that the simplicity of this network works well with our data set, and provides the best results. Error does not significantly drop after training for 200 iterations, and exhibits overtraining on the data rather quickly (by 220 iterations or so).\n"
   ]
  },
  {
   "cell_type": "markdown",
   "metadata": {},
   "source": [
    "### Limitations"
   ]
  },
  {
   "cell_type": "markdown",
   "metadata": {},
   "source": [
    "While the model built by the network does not seem to have error centralized significantly on any particular predicted classes, and it seems plausible to us that this remaining error may be most significantly attributed to the highly limited scale of our dataset as it is currently used.\n",
    "\n",
    "Additionally, the error could in part be attributed to the variances of the Leap Motion sensor itself, given its relatively poor accuracy versus other (but far more expensive) sensor arrays or methodologies. The Leap being a single, table-mounted infrared paralax camera sensor definitely limits its accuracy in tracking individual fingers, and exhibits a great deal of trouble with tracking when fingers are too close to one another, or a hand is closed. Regardless, the model and our efforts to manage our data seem to have gotten us fairly acceptable accuracy anyway.\n",
    "\n",
    "Finally, the number of participants we used to generate data was *very* limited and could be skewing our data somewhat. While some of the participants were more familiar with American Sign Language than others, we think none could truly be classified as 'experts' in the way someone truly fluent in ASL would be. Also, this project only has trained for individual letters, not numbers or signs that represent whole words or ideas in and of themselves. Part of this restriction is practical, simply to limit the scope of the project. The other is that some signs require more full bodied movements and interactions, which the Leap Motion sensor simply is not capable of tracking due to its limited field of view and capabilities for tracking. \n",
    "    \n",
    "And of course, even though this is American Sign Language, switching to other versions would be fairly simple, but time consuming as it requires a new data set. It also requires retraining of the neural network and potential tweaks to the structure, but that is to be expected.\n"
   ]
  },
  {
   "cell_type": "markdown",
   "metadata": {},
   "source": [
    "## Conclusions"
   ]
  },
  {
   "cell_type": "markdown",
   "metadata": {},
   "source": [
    "Compared to what we had at the end of the Hackathon, this system is *Leaps* and bounds above. While it is not perfect, we believe it to be a solid demonstration of a neural network decifering American Sign Language hand signs. Given more time, better sensors, and a whole lot more data, we believe we could improve this model even more. \n",
    "\n",
    "Despite other sensors being more accurate, we believe that the Leap Motion allows our work on this project to be more accessible. The cost of the Leap Motion results in a much lower barrier to entry if anyone wanted to implement our network when creating a translator, teaching tool, or any other project they wanted to create.\n",
    "\n",
    "Unfortunately, the way the Leap Motion operates, we couldn't find a way to track motions and all of our hand signs are based off of single frames that we captured. This means that our project cannot be implemented accross an entire dictionary of words but it works really well for letters. We knew this was a limitation going in though, which is why we focused on just getting letters to work well. \n",
    "\n",
    "In summary, this project has been a fantastic extension of the ideas and project we started at the 2017 RAMHACK and exhibits some of the potential of neural networks as a technique for real world problems. It has improved the accuracy of our project significantly, yet was not overly complex to develop."
   ]
  },
  {
   "cell_type": "markdown",
   "metadata": {},
   "source": [
    "### References"
   ]
  },
  {
   "cell_type": "markdown",
   "metadata": {},
   "source": [
    "* [Chuck Anderson's CS440 course notes and resources](http://www.cs.colostate.edu/~anderson/cs440/doku.php)\n",
    "* [Leap SDK doc](https://developer.leapmotion.com/documentation/python/api/)\n",
    "* [Lifeprint](http://lifeprint.com/asl101/)"
   ]
  }
 ],
 "metadata": {
  "kernelspec": {
   "display_name": "Python 3",
   "language": "python",
   "name": "python3"
  },
  "language_info": {
   "codemirror_mode": {
    "name": "ipython",
    "version": 3
   },
   "file_extension": ".py",
   "mimetype": "text/x-python",
   "name": "python",
   "nbconvert_exporter": "python",
   "pygments_lexer": "ipython3",
   "version": "3.6.1"
  }
 },
 "nbformat": 4,
 "nbformat_minor": 1
}
